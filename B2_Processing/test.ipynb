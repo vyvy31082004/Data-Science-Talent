{
 "cells": [
  {
   "cell_type": "code",
   "execution_count": 2,
   "id": "2bf599b9",
   "metadata": {},
   "outputs": [
    {
     "name": "stdout",
     "output_type": "stream",
     "text": [
      "Fetching data, it may take a while. Please wait...\n",
      "     ticker         timestamp          open          high           low  \\\n",
      "0       HPG  2022-01-04 00:00  26831.195029  27060.521483  26716.531803   \n",
      "1       HPG  2022-01-05 00:00  26888.526643  27146.518902  26831.195029   \n",
      "2       HPG  2022-01-06 00:00  26659.200189  26773.863416  26429.873736   \n",
      "3       HPG  2022-01-07 00:00  26429.873736  26487.205349  26171.881476   \n",
      "4       HPG  2022-01-10 00:00  26286.544703  26745.197609  26085.884056   \n",
      "...     ...               ...           ...           ...           ...   \n",
      "2729   VN30  2025-08-25 00:00   1829.600000   1835.850000   1774.840000   \n",
      "2730   VN30  2025-08-26 00:00   1783.000000   1850.000000   1769.540000   \n",
      "2731   VN30  2025-08-27 00:00   1861.660000   1877.270000   1841.130000   \n",
      "2732   VN30  2025-08-28 00:00   1854.310000   1866.180000   1831.790000   \n",
      "2733   VN30  2025-08-29 00:00   1872.380000   1890.360000   1855.280000   \n",
      "\n",
      "             close       volume           bu           sd            fn  \\\n",
      "0     26802.529223   20100700.0   10091900.0    8956800.0  4.010592e+10   \n",
      "1     26831.195029   18760700.0    8334600.0    9677700.0 -3.041683e+10   \n",
      "2     26429.873736   17172700.0    7131500.0    9064600.0  3.062805e+10   \n",
      "3     26257.878896   16335300.0          0.0          0.0  5.706838e+10   \n",
      "4     26171.881476   17477500.0    8208500.0    8538000.0  3.879654e+10   \n",
      "...            ...          ...          ...          ...           ...   \n",
      "2729   1783.120000  697781160.0  260984200.0  389820500.0 -1.555912e+12   \n",
      "2730   1849.050000  568354072.0  332659100.0  203480400.0 -3.460672e+11   \n",
      "2731   1848.550000  633611038.0  247895800.0  344612300.0 -3.078052e+12   \n",
      "2732   1861.200000  526443069.0  270172600.0  227956800.0 -1.891804e+12   \n",
      "2733   1865.380000  635732753.0  320997000.0  271138900.0 -2.536271e+12   \n",
      "\n",
      "                fs            fb  \n",
      "0     1.357990e+11  1.759049e+11  \n",
      "1     1.691593e+11  1.387425e+11  \n",
      "2     2.970092e+10  6.032898e+10  \n",
      "3     3.290822e+10  8.997659e+10  \n",
      "4     5.282400e+10  9.162054e+10  \n",
      "...            ...           ...  \n",
      "2729  3.495505e+12  1.939593e+12  \n",
      "2730  2.125656e+12  1.779589e+12  \n",
      "2731  4.987386e+12  1.909335e+12  \n",
      "2732  3.541213e+12  1.649409e+12  \n",
      "2733  4.293972e+12  1.757700e+12  \n",
      "\n",
      "[2734 rows x 12 columns]\n"
     ]
    }
   ],
   "source": [
    "from FiinQuantX import FiinSession\n",
    "# Đăng nhập\n",
    "username = 'DSTC_36@fiinquant.vn'\n",
    "password = 'Fiinquant0606'\n",
    "\n",
    "client = FiinSession(username=username, password=password).login()\n",
    "fi = client.FiinIndicator()\n",
    "# Lấy dữ liệu có sẵn\n",
    "tickers = ['HPG','SSI','VN30'] \n",
    "df = client.Fetch_Trading_Data(\n",
    "    realtime = False,\n",
    "    tickers = tickers,    \n",
    "    fields = ['open','high','low','close','volume','bu','sd','fn','fs','fb'],\n",
    "    adjusted=True,\n",
    "    from_date='2022-01-01',\n",
    "    by = '1d'\n",
    "    ).get_data()\n",
    "\n",
    "print(df)"
   ]
  },
  {
   "cell_type": "code",
   "execution_count": null,
   "id": "2c598db1",
   "metadata": {},
   "outputs": [],
   "source": []
  },
  {
   "cell_type": "code",
   "execution_count": null,
   "id": "46621b02",
   "metadata": {},
   "outputs": [],
   "source": []
  }
 ],
 "metadata": {
  "kernelspec": {
   "display_name": "Python 3",
   "language": "python",
   "name": "python3"
  },
  "language_info": {
   "codemirror_mode": {
    "name": "ipython",
    "version": 3
   },
   "file_extension": ".py",
   "mimetype": "text/x-python",
   "name": "python",
   "nbconvert_exporter": "python",
   "pygments_lexer": "ipython3",
   "version": "3.12.5"
  }
 },
 "nbformat": 4,
 "nbformat_minor": 5
}

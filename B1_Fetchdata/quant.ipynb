{
 "cells": [
  {
   "cell_type": "code",
   "execution_count": 4,
   "id": "7fd8f227",
   "metadata": {},
   "outputs": [],
   "source": [
    "from FiinQuantX import FiinSession\n",
    "from dotenv import load_dotenv\n",
    "import os\n",
    "\n",
    "# Load environment variables\n",
    "load_dotenv()\n",
    "username = os.getenv('USERNAME1')\n",
    "password = os.getenv('PASSWORD1')\n",
    "\n",
    "client = FiinSession(username=username, password=password).login()\n",
    "fi = client.FiinIndicator()"
   ]
  },
  {
   "cell_type": "code",
   "execution_count": 4,
   "metadata": {},
   "outputs": [
    {
     "name": "stdout",
     "output_type": "stream",
     "text": [
      "1653\n"
     ]
    }
   ],
   "source": [
    "from datetime import datetime, timedelta\n",
    "hose = list(client.TickerList(ticker=\"VNINDEX\"))\n",
    "hnx = list(client.TickerList(ticker=\"HNXINDEX\"))\n",
    "upcom = list(client.TickerList(ticker=\"UPCOMINDEX\"))\n",
    "all_tickers = hose + hnx + upcom\n",
    "print(len(all_tickers))\n",
    "\n"
   ]
  },
  {
   "cell_type": "code",
   "execution_count": null,
   "id": "d101c278",
   "metadata": {},
   "outputs": [
    {
     "name": "stdout",
     "output_type": "stream",
     "text": [
      "Fetching data, it may take a while. Please wait...\n",
      "Fetching data, it may take a while. Please wait...\n",
      "Fetching data, it may take a while. Please wait...\n",
      "Fetching data, it may take a while. Please wait...\n",
      "Fetching data, it may take a while. Please wait...\n",
      "Fetching data, it may take a while. Please wait...\n",
      "Fetching data, it may take a while. Please wait...\n",
      "Fetching data, it may take a while. Please wait...\n",
      "Fetching data, it may take a while. Please wait...\n",
      "Fetching data, it may take a while. Please wait...\n",
      "Fetching data, it may take a while. Please wait...\n",
      "Fetching data, it may take a while. Please wait...\n",
      "Fetching data, it may take a while. Please wait...\n",
      "Fetching data, it may take a while. Please wait...\n",
      "Fetching data, it may take a while. Please wait...\n",
      "Fetching data, it may take a while. Please wait...\n",
      "Fetching data, it may take a while. Please wait...\n",
      "Fetching data, it may take a while. Please wait...\n",
      "Fetching data, it may take a while. Please wait...\n",
      "Fetching data, it may take a while. Please wait...\n",
      "Fetching data, it may take a while. Please wait...\n",
      "Fetching data, it may take a while. Please wait...\n",
      "Fetching data, it may take a while. Please wait...\n",
      "Fetching data, it may take a while. Please wait...\n",
      "Fetching data, it may take a while. Please wait...\n",
      "Fetching data, it may take a while. Please wait...\n",
      "Fetching data, it may take a while. Please wait...\n",
      "Fetching data, it may take a while. Please wait...\n",
      "Fetching data, it may take a while. Please wait...\n",
      "Fetching data, it may take a while. Please wait...\n",
      "Fetching data, it may take a while. Please wait...\n",
      "Fetching data, it may take a while. Please wait...\n",
      "Fetching data, it may take a while. Please wait...\n",
      "Fetching data, it may take a while. Please wait...\n",
      "Fetching data, it may take a while. Please wait...\n",
      "Fetching data, it may take a while. Please wait...\n",
      "Fetching data, it may take a while. Please wait...\n",
      "Fetching data, it may take a while. Please wait...\n",
      "Fetching data, it may take a while. Please wait...\n",
      "Fetching data, it may take a while. Please wait...\n",
      "Fetching data, it may take a while. Please wait...\n",
      "Fetching data, it may take a while. Please wait...\n",
      "Fetching data, it may take a while. Please wait...\n",
      "Fetching data, it may take a while. Please wait...\n",
      "Fetching data, it may take a while. Please wait...\n",
      "Fetching data, it may take a while. Please wait...\n",
      "Fetching data, it may take a while. Please wait...\n",
      "Fetching data, it may take a while. Please wait...\n",
      "Fetching data, it may take a while. Please wait...\n",
      "Fetching data, it may take a while. Please wait...\n",
      "Fetching data, it may take a while. Please wait...\n",
      "Fetching data, it may take a while. Please wait...\n",
      "Fetching data, it may take a while. Please wait...\n",
      "Fetching data, it may take a while. Please wait...\n",
      "Fetching data, it may take a while. Please wait...\n",
      "Fetching data, it may take a while. Please wait...\n",
      "Fetching data, it may take a while. Please wait...\n",
      "Fetching data, it may take a while. Please wait...\n",
      "Fetching data, it may take a while. Please wait...\n",
      "Fetching data, it may take a while. Please wait...\n",
      "Fetching data, it may take a while. Please wait...\n",
      "Fetching data, it may take a while. Please wait...\n",
      "Fetching data, it may take a while. Please wait...\n",
      "Fetching data, it may take a while. Please wait...\n",
      "Fetching data, it may take a while. Please wait...\n",
      "Fetching data, it may take a while. Please wait...\n",
      "Fetching data, it may take a while. Please wait...\n",
      "Fetching data, it may take a while. Please wait...\n",
      "Fetching data, it may take a while. Please wait...\n",
      "Fetching data, it may take a while. Please wait...\n",
      "Fetching data, it may take a while. Please wait...\n",
      "Fetching data, it may take a while. Please wait...\n",
      "Fetching data, it may take a while. Please wait...\n",
      "Fetching data, it may take a while. Please wait...\n",
      "Fetching data, it may take a while. Please wait...\n",
      "Fetching data, it may take a while. Please wait...\n",
      "Fetching data, it may take a while. Please wait...\n",
      "Fetching data, it may take a while. Please wait...\n",
      "Fetching data, it may take a while. Please wait...\n",
      "Fetching data, it may take a while. Please wait...\n",
      "Fetching data, it may take a while. Please wait...\n",
      "Fetching data, it may take a while. Please wait...\n",
      "Fetching data, it may take a while. Please wait...\n",
      "        ticker         timestamp      open      high       low     close  \\\n",
      "0          AAM  2023-01-03 00:00  11284.80  11284.80  11002.68  11190.76   \n",
      "1          AAM  2023-01-04 00:00  10673.54  11002.68  10673.54  10908.64   \n",
      "2          AAM  2023-01-05 00:00  10438.44  11190.76  10438.44  11190.76   \n",
      "3          AAM  2023-01-06 00:00  11002.68  11143.74  10955.66  10955.66   \n",
      "4          AAM  2023-01-09 00:00  11284.80  11284.80  10908.64  10955.66   \n",
      "...        ...               ...       ...       ...       ...       ...   \n",
      "1040146    VXT  2025-08-25 00:00  11000.00  11000.00  11000.00  11000.00   \n",
      "1040147    VXT  2025-08-26 00:00  11000.00  11000.00  11000.00  11000.00   \n",
      "1040148    VXT  2025-08-27 00:00  11000.00  11000.00  11000.00  11000.00   \n",
      "1040149    VXT  2025-08-28 00:00  11000.00  11000.00  11000.00  11000.00   \n",
      "1040150    VXT  2025-08-29 00:00  11000.00  11000.00  11000.00  11000.00   \n",
      "\n",
      "         volume      bu      sd         fn         fs         fb  \n",
      "0        3601.0  2900.0   700.0        0.0        0.0        0.0  \n",
      "1        3900.0  1500.0  2400.0 -1145000.0  1145000.0        0.0  \n",
      "2        2332.0  2200.0   100.0        0.0        0.0        0.0  \n",
      "3         600.0   600.0     0.0        0.0        0.0        0.0  \n",
      "4         441.0   400.0     0.0  1200000.0        0.0  1200000.0  \n",
      "...         ...     ...     ...        ...        ...        ...  \n",
      "1040146     0.0     0.0     0.0        0.0        0.0        0.0  \n",
      "1040147     0.0     0.0     0.0        0.0        0.0        0.0  \n",
      "1040148     0.0     0.0     0.0        0.0        0.0        0.0  \n",
      "1040149     0.0     0.0     0.0        0.0        0.0        0.0  \n",
      "1040150     0.0     0.0     0.0        0.0        0.0        0.0  \n",
      "\n",
      "[1040151 rows x 12 columns]\n"
     ]
    }
   ],
   "source": [
    "from concurrent.futures import ThreadPoolExecutor, as_completed\n",
    "import pandas as pd\n",
    "batch_size = 20\n",
    "ticker_batches = [all_tickers[i:i + batch_size] for i in range(0, len(all_tickers), batch_size)]\n",
    "from_date = (datetime.today() - timedelta(days=365)).strftime(\"%Y-%m-%d\")\n",
    "to_date = datetime.today().strftime(\"%Y-%m-%d\")\n",
    "\n",
    "# 5. Hàm fetch từng batch\n",
    "def fetch_batch(batch):\n",
    "    try:\n",
    "        return client.Fetch_Trading_Data(\n",
    "            realtime=False,\n",
    "            tickers=batch,\n",
    "            fields=['open','high','low','close','volume','bu','sd','fn','fs','fb'],\n",
    "            adjusted=True,\n",
    "            by=\"1d\",\n",
    "            from_date= '2023-01-01',\n",
    "            to_date=to_date\n",
    "        ).get_data()\n",
    "    except Exception as e:\n",
    "        print(f\"Lỗi batch {batch}: {e}\")\n",
    "        # return pd.DataFrame()\n",
    "\n",
    "# 6. Chạy song song\n",
    "all_data = []\n",
    "with ThreadPoolExecutor(max_workers=10) as executor:  # có thể tăng >10 nếu máy mạnh\n",
    "    futures = [executor.submit(fetch_batch, b) for b in ticker_batches]\n",
    "    for future in as_completed(futures):\n",
    "        all_data.append(future.result())\n",
    "\n",
    "# 7. Gộp kết quả\n",
    "final_df = pd.concat(all_data, ignore_index=True)\n",
    "print(final_df)"
   ]
  },
  {
   "cell_type": "code",
   "execution_count": 7,
   "id": "61393dcb",
   "metadata": {},
   "outputs": [
    {
     "name": "stdout",
     "output_type": "stream",
     "text": [
      "        ticker         timestamp      open      high       low     close  \\\n",
      "0          AAM  2023-01-03 00:00  11284.80  11284.80  11002.68  11190.76   \n",
      "1          AAM  2023-01-04 00:00  10673.54  11002.68  10673.54  10908.64   \n",
      "2          AAM  2023-01-05 00:00  10438.44  11190.76  10438.44  11190.76   \n",
      "3          AAM  2023-01-06 00:00  11002.68  11143.74  10955.66  10955.66   \n",
      "4          AAM  2023-01-09 00:00  11284.80  11284.80  10908.64  10955.66   \n",
      "...        ...               ...       ...       ...       ...       ...   \n",
      "1040146    VXT  2025-08-25 00:00  11000.00  11000.00  11000.00  11000.00   \n",
      "1040147    VXT  2025-08-26 00:00  11000.00  11000.00  11000.00  11000.00   \n",
      "1040148    VXT  2025-08-27 00:00  11000.00  11000.00  11000.00  11000.00   \n",
      "1040149    VXT  2025-08-28 00:00  11000.00  11000.00  11000.00  11000.00   \n",
      "1040150    VXT  2025-08-29 00:00  11000.00  11000.00  11000.00  11000.00   \n",
      "\n",
      "         volume      bu      sd         fn         fs         fb  \n",
      "0        3601.0  2900.0   700.0        0.0        0.0        0.0  \n",
      "1        3900.0  1500.0  2400.0 -1145000.0  1145000.0        0.0  \n",
      "2        2332.0  2200.0   100.0        0.0        0.0        0.0  \n",
      "3         600.0   600.0     0.0        0.0        0.0        0.0  \n",
      "4         441.0   400.0     0.0  1200000.0        0.0  1200000.0  \n",
      "...         ...     ...     ...        ...        ...        ...  \n",
      "1040146     0.0     0.0     0.0        0.0        0.0        0.0  \n",
      "1040147     0.0     0.0     0.0        0.0        0.0        0.0  \n",
      "1040148     0.0     0.0     0.0        0.0        0.0        0.0  \n",
      "1040149     0.0     0.0     0.0        0.0        0.0        0.0  \n",
      "1040150     0.0     0.0     0.0        0.0        0.0        0.0  \n",
      "\n",
      "[1040151 rows x 12 columns]\n"
     ]
    }
   ],
   "source": [
    "print(final_df)"
   ]
  },
  {
   "cell_type": "code",
   "execution_count": 8,
   "id": "98b7af12",
   "metadata": {},
   "outputs": [
    {
     "name": "stdout",
     "output_type": "stream",
     "text": [
      "Số hàng toàn null: 0\n",
      "Empty DataFrame\n",
      "Columns: [ticker, timestamp, open, high, low, close, volume, bu, sd, fn, fs, fb]\n",
      "Index: []\n"
     ]
    }
   ],
   "source": [
    "# Kiểm tra số lượng hàng toàn null\n",
    "print(\"Số hàng toàn null:\", final_df.isnull().all(axis=1).sum())\n",
    "# Hiển thị các hàng toàn null\n",
    "print(final_df[final_df.isnull().all(axis=1)])\n"
   ]
  },
  {
   "cell_type": "code",
   "execution_count": 9,
   "id": "354ae370",
   "metadata": {},
   "outputs": [],
   "source": [
    "final_df.to_csv(\"all_stock_data.csv\", index=False)"
   ]
  },
  {
   "cell_type": "code",
   "execution_count": null,
   "id": "fa0a2dac",
   "metadata": {},
   "outputs": [],
   "source": []
  },
  {
   "cell_type": "code",
   "execution_count": null,
   "id": "ccdb47e6",
   "metadata": {},
   "outputs": [],
   "source": []
  },
  {
   "cell_type": "code",
   "execution_count": null,
   "id": "dc62b029",
   "metadata": {},
   "outputs": [],
   "source": []
  },
  {
   "cell_type": "code",
   "execution_count": null,
   "id": "74440d25",
   "metadata": {},
   "outputs": [],
   "source": []
  },
  {
   "cell_type": "code",
   "execution_count": null,
   "id": "82ea5482",
   "metadata": {},
   "outputs": [],
   "source": []
  },
  {
   "cell_type": "code",
   "execution_count": null,
   "id": "4c720fcc",
   "metadata": {},
   "outputs": [],
   "source": []
  },
  {
   "cell_type": "code",
   "execution_count": null,
   "id": "4143ac1c",
   "metadata": {},
   "outputs": [],
   "source": []
  },
  {
   "cell_type": "code",
   "execution_count": null,
   "id": "e82fed79",
   "metadata": {},
   "outputs": [],
   "source": []
  }
 ],
 "metadata": {
  "kernelspec": {
   "display_name": "Python 3",
   "language": "python",
   "name": "python3"
  },
  "language_info": {
   "codemirror_mode": {
    "name": "ipython",
    "version": 3
   },
   "file_extension": ".py",
   "mimetype": "text/x-python",
   "name": "python",
   "nbconvert_exporter": "python",
   "pygments_lexer": "ipython3",
   "version": "3.12.5"
  }
 },
 "nbformat": 4,
 "nbformat_minor": 5
}

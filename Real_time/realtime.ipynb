{
 "cells": [
  {
   "cell_type": "code",
   "execution_count": 1,
   "id": "799da4cb",
   "metadata": {},
   "outputs": [],
   "source": [
    "from FiinQuantX import FiinSession\n",
    "from dotenv import load_dotenv\n",
    "import os\n",
    "\n",
    "# Load environment variables\n",
    "load_dotenv()\n",
    "username = os.getenv('USERNAME1')\n",
    "password = os.getenv('PASSWORD1')\n",
    "\n",
    "client = FiinSession(username=username, password=password).login()\n",
    "fi = client.FiinIndicator()\n",
    "\n"
   ]
  },
  {
   "cell_type": "code",
   "execution_count": null,
   "id": "94c5cfc9",
   "metadata": {},
   "outputs": [
    {
     "name": "stdout",
     "output_type": "stream",
     "text": [
      "Lấy được 1605 mã chứng khoán từ 3 sàn.\n",
      "Chia thành 17 lô để tải về...\n",
      "Đang xử lý lô 1/17...\n",
      "Fetching data, it may take a while. Please wait...\n"
     ]
    }
   ],
   "source": [
    "import pandas as pd\n",
    "import time\n",
    "\n",
    "# Lấy danh sách tickers từ FiinQuant (cách làm của bạn rất chính xác)\n",
    "hose = list(client.TickerList(ticker=\"VNINDEX\"))\n",
    "hnx = list(client.TickerList(ticker=\"HNXINDEX\"))\n",
    "upcom = list(client.TickerList(ticker=\"UPCOMINDEX\"))\n",
    "tickers = list(set(hose + hnx + upcom))\n",
    "print(f\"Lấy được {len(tickers)} mã chứng khoán từ 3 sàn.\")\n",
    "\n",
    "# --- Tối ưu hóa việc fetch dữ liệu ---\n",
    "# Chia danh sách tickers thành các lô nhỏ hơn (ví dụ: 100 mã mỗi lô)\n",
    "def create_chunks(data, chunk_size):\n",
    "    for i in range(0, len(data), chunk_size):\n",
    "        yield data[i:i + chunk_size]\n",
    "\n",
    "ticker_chunks = list(create_chunks(tickers, 100))\n",
    "all_data = []\n",
    "\n",
    "print(f\"Chia thành {len(ticker_chunks)} lô để tải về...\")\n",
    "\n",
    "# Lặp qua từng lô và fetch dữ liệu\n",
    "for i, chunk in enumerate(ticker_chunks):\n",
    "    print(f\"Đang xử lý lô {i+1}/{len(ticker_chunks)}...\")\n",
    "    try:\n",
    "        chunk_data = client.Fetch_Trading_Data(\n",
    "            realtime=False,\n",
    "            tickers=chunk,\n",
    "            fields=[\"open\", \"high\", \"low\", \"close\", \"volume\"],\n",
    "            adjusted=True,\n",
    "            by=\"1d\",\n",
    "            period=1  # Lấy dữ liệu EOD của ngày gần nhất\n",
    "        ).get_data()\n",
    "        \n",
    "        if chunk_data is not None and not chunk_data.empty:\n",
    "            all_data.append(chunk_data)\n",
    "        \n",
    "        time.sleep(0.5) # Thêm một khoảng nghỉ nhỏ để tránh quá tải API\n",
    "        \n",
    "    except Exception as e:\n",
    "        print(f\"Lỗi khi xử lý lô {i+1}: {e}\")\n",
    "\n",
    "if all_data:\n",
    "    final_eod_data = pd.concat(all_data, ignore_index=True)\n",
    "    print(\"Tải dữ liệu EOD thành công!\")\n",
    "else:\n",
    "    final_eod_data = pd.DataFrame()\n",
    "    print(\"Không tải được dữ liệu nào.\")"
   ]
  },
  {
   "cell_type": "code",
   "execution_count": null,
   "metadata": {},
   "outputs": [],
   "source": [
    "# Hiển thị kết quả\n",
    "display(final_eod_data.head())\n",
    "display(final_eod_data.tail())\n"
   ]
  },
  {
   "cell_type": "code",
   "execution_count": null,
   "metadata": {},
   "outputs": [],
   "source": []
  },
  {
   "cell_type": "code",
   "execution_count": null,
   "metadata": {},
   "outputs": [],
   "source": []
  },
  {
   "cell_type": "code",
   "execution_count": null,
   "metadata": {},
   "outputs": [],
   "source": []
  }
 ],
 "metadata": {
  "kernelspec": {
   "display_name": "Python 3",
   "language": "python",
   "name": "python3"
  },
  "language_info": {
   "codemirror_mode": {
    "name": "ipython",
    "version": 3
   },
   "file_extension": ".py",
   "mimetype": "text/x-python",
   "name": "python",
   "nbconvert_exporter": "python",
   "pygments_lexer": "ipython3",
   "version": "3.12.5"
  }
 },
 "nbformat": 4,
 "nbformat_minor": 5
}

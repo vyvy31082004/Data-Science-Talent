{
 "cells": [
  {
   "cell_type": "code",
   "execution_count": 1,
   "id": "799da4cb",
   "metadata": {},
   "outputs": [],
   "source": [
    "from FiinQuantX import FiinSession, RealTimeData\n",
    "from dotenv import load_dotenv\n",
    "import os\n",
    "import pandas as pd\n",
    "\n",
    "# Load environment variables\n",
    "load_dotenv()\n",
    "username = os.getenv('USERNAME1')\n",
    "password = os.getenv('PASSWORD1')\n",
    "\n",
    "# Login to FiinQuantX\n",
    "client = FiinSession(username=username, password=password).login()"
   ]
  },
  {
   "cell_type": "code",
   "execution_count": 2,
   "metadata": {},
   "outputs": [],
   "source": [
    "# This dataframe will be updated by the callback\n",
    "df_total = pd.DataFrame()\n",
    "\n",
    "# Define the callback function to handle incoming real-time data\n",
    "def onEvent(data: RealTimeData):\n",
    "    global df_total\n",
    "    try:\n",
    "        # Cố gắng truy cập các thuộc tính, bao gồm cả 'Time'\n",
    "        print(f\"Received data for: {data.Ticker}, Close: {data.Close}, Time: {data.Time}\")\n",
    "    except AttributeError:\n",
    "        # Nếu có lỗi, in ra các thuộc tính có sẵn để debug\n",
    "        # Sử dụng getattr để tránh lỗi nếu 'Ticker' cũng không tồn tại\n",
    "        ticker = getattr(data, 'Ticker', 'Unknown Ticker')\n",
    "        print(f\"Data received for {ticker}, but some attributes are missing.\")\n",
    "        # In ra các thuộc tính có thể sử dụng được của object 'data'\n",
    "        attributes = [attr for attr in dir(data) if not attr.startswith('_') and not callable(getattr(data, attr))]\n",
    "        print(f\"Available attributes: {attributes}\")\n",
    "\n",
    "    # Chuyển đổi dữ liệu nhận được sang DataFrame\n",
    "    # Đảm bảo rằng phương thức to_dataFrame() không gây ra lỗi tương tự\n",
    "    try:\n",
    "        new_data_df = data.to_dataFrame()\n",
    "        # Nối vào DataFrame tổng\n",
    "        df_total = pd.concat([df_total, new_data_df], ignore_index=True)\n",
    "    except Exception as e:\n",
    "        ticker = getattr(data, 'Ticker', 'Unknown Ticker')\n",
    "        print(f\"Could not convert data to DataFrame for {ticker}: {e}\")"
   ]
  },
  {
   "cell_type": "code",
   "execution_count": 3,
   "id": "57a7d55e",
   "metadata": {},
   "outputs": [
    {
     "name": "stdout",
     "output_type": "stream",
     "text": [
      "Lấy được 1605 mã chứng khoán từ 3 sàn.\n",
      "\n",
      "Sẽ bắt đầu stream dữ liệu cho 1 mã: ['CTN']\n",
      "\n",
      "Bắt đầu lắng nghe luồng dữ liệu real-time...\n",
      "Connection established. Waiting for server processing...\n",
      "2025-09-17 08:59:31 Joined group: Realtime.Ticker.CTN\n",
      "\n",
      "Đã nhận tín hiệu dừng. Đang đóng kết nối...\n",
      "Disconnecting...\n",
      "Luồng đã dừng.\n"
     ]
    }
   ],
   "source": [
    "import time\n",
    "hose = list(client.TickerList(ticker=\"VNINDEX\"))\n",
    "hnx = list(client.TickerList(ticker=\"HNXINDEX\"))\n",
    "upcom = list(client.TickerList(ticker=\"UPCOMINDEX\"))\n",
    "all_tickers = list(set(hose + hnx + upcom))\n",
    "print(f\"Lấy được {len(all_tickers)} mã chứng khoán từ 3 sàn.\")\n",
    "# Giảm xuống chỉ còn 1 mã để kiểm tra kết nối cơ bản\n",
    "tickers_to_stream = all_tickers[:1]\n",
    "print(f\"\\nSẽ bắt đầu stream dữ liệu cho {len(tickers_to_stream)} mã: {tickers_to_stream}\")\n",
    "\n",
    "TickerEvents = client.Trading_Data_Stream(tickers=tickers_to_stream, callback=onEvent)\n",
    "TickerEvents.start()\n",
    "\n",
    "print(\"\\nBắt đầu lắng nghe luồng dữ liệu real-time...\")\n",
    "\n",
    "try:\n",
    "    while not TickerEvents._stop:\n",
    "        time.sleep(1)\n",
    "except KeyboardInterrupt:\n",
    "    print(\"\\nĐã nhận tín hiệu dừng. Đang đóng kết nối...\")\n",
    "    TickerEvents.stop()\n",
    "    print(\"Luồng đã dừng.\")"
   ]
  },
  {
   "cell_type": "code",
   "execution_count": null,
   "id": "9889317f",
   "metadata": {},
   "outputs": [
    {
     "name": "stdout",
     "output_type": "stream",
     "text": [
      "Không có dữ liệu 'df_total' để hiển thị. Hãy chạy cell xử lý realtime trước.\n"
     ]
    }
   ],
   "source": [
    "# Sau khi dừng cell xử lý realtime ở trên, bạn có thể chạy cell này để xem lại dữ liệu\n",
    "if 'df_total' in locals() and not df_total.empty:\n",
    "    print(\"Xem 5 dòng đầu của dữ liệu đã thu thập:\")\n",
    "    display(df_total.head())\n",
    "    print(\"\\nXem 5 dòng cuối của dữ liệu đã thu thập:\")\n",
    "    display(df_total.tail())\n",
    "else:\n",
    "    print(\"Không có dữ liệu 'df_total' để hiển thị. Hãy chạy cell xử lý realtime trước.\")\n"
   ]
  },
  {
   "cell_type": "code",
   "execution_count": null,
   "id": "9fbdaf31",
   "metadata": {},
   "outputs": [],
   "source": [
    "\n"
   ]
  }
 ],
 "metadata": {
  "kernelspec": {
   "display_name": "Python 3",
   "language": "python",
   "name": "python3"
  },
  "language_info": {
   "codemirror_mode": {
    "name": "ipython",
    "version": 3
   },
   "file_extension": ".py",
   "mimetype": "text/x-python",
   "name": "python",
   "nbconvert_exporter": "python",
   "pygments_lexer": "ipython3",
   "version": "3.12.5"
  }
 },
 "nbformat": 4,
 "nbformat_minor": 5
}
